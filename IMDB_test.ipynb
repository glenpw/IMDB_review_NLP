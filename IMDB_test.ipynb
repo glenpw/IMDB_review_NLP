{
 "cells": [
  {
   "cell_type": "code",
   "execution_count": 1,
   "metadata": {},
   "outputs": [],
   "source": [
    "import pandas as pd"
   ]
  },
  {
   "cell_type": "code",
   "execution_count": 2,
   "metadata": {},
   "outputs": [
    {
     "data": {
      "text/html": [
       "<div>\n",
       "<style scoped>\n",
       "    .dataframe tbody tr th:only-of-type {\n",
       "        vertical-align: middle;\n",
       "    }\n",
       "\n",
       "    .dataframe tbody tr th {\n",
       "        vertical-align: top;\n",
       "    }\n",
       "\n",
       "    .dataframe thead th {\n",
       "        text-align: right;\n",
       "    }\n",
       "</style>\n",
       "<table border=\"1\" class=\"dataframe\">\n",
       "  <thead>\n",
       "    <tr style=\"text-align: right;\">\n",
       "      <th></th>\n",
       "      <th>id</th>\n",
       "      <th>sentiment</th>\n",
       "      <th>review</th>\n",
       "    </tr>\n",
       "  </thead>\n",
       "  <tbody>\n",
       "    <tr>\n",
       "      <th>0</th>\n",
       "      <td>5814_8</td>\n",
       "      <td>1</td>\n",
       "      <td>With all this stuff going down at the moment w...</td>\n",
       "    </tr>\n",
       "    <tr>\n",
       "      <th>1</th>\n",
       "      <td>2381_9</td>\n",
       "      <td>1</td>\n",
       "      <td>\\The Classic War of the Worlds\\\" by Timothy Hi...</td>\n",
       "    </tr>\n",
       "    <tr>\n",
       "      <th>2</th>\n",
       "      <td>7759_3</td>\n",
       "      <td>0</td>\n",
       "      <td>The film starts with a manager (Nicholas Bell)...</td>\n",
       "    </tr>\n",
       "    <tr>\n",
       "      <th>3</th>\n",
       "      <td>3630_4</td>\n",
       "      <td>0</td>\n",
       "      <td>It must be assumed that those who praised this...</td>\n",
       "    </tr>\n",
       "    <tr>\n",
       "      <th>4</th>\n",
       "      <td>9495_8</td>\n",
       "      <td>1</td>\n",
       "      <td>Superbly trashy and wondrously unpretentious 8...</td>\n",
       "    </tr>\n",
       "  </tbody>\n",
       "</table>\n",
       "</div>"
      ],
      "text/plain": [
       "       id  sentiment                                             review\n",
       "0  5814_8          1  With all this stuff going down at the moment w...\n",
       "1  2381_9          1  \\The Classic War of the Worlds\\\" by Timothy Hi...\n",
       "2  7759_3          0  The film starts with a manager (Nicholas Bell)...\n",
       "3  3630_4          0  It must be assumed that those who praised this...\n",
       "4  9495_8          1  Superbly trashy and wondrously unpretentious 8..."
      ]
     },
     "execution_count": 2,
     "metadata": {},
     "output_type": "execute_result"
    }
   ],
   "source": [
    "imdb = pd.read_csv('labeledTrainData.tsv', sep='\\t',header=0) #CSV TAB SEPARATOR\n",
    "imdb.head()"
   ]
  },
  {
   "cell_type": "code",
   "execution_count": 3,
   "metadata": {},
   "outputs": [
    {
     "name": "stdout",
     "output_type": "stream",
     "text": [
      "<class 'pandas.core.frame.DataFrame'>\n",
      "RangeIndex: 25000 entries, 0 to 24999\n",
      "Data columns (total 3 columns):\n",
      "id           25000 non-null object\n",
      "sentiment    25000 non-null int64\n",
      "review       25000 non-null object\n",
      "dtypes: int64(1), object(2)\n",
      "memory usage: 586.0+ KB\n"
     ]
    }
   ],
   "source": [
    "imdb.info()"
   ]
  },
  {
   "cell_type": "code",
   "execution_count": 4,
   "metadata": {},
   "outputs": [],
   "source": [
    "# imdb['text_length'] = imdb['review'].apply(len)"
   ]
  },
  {
   "cell_type": "code",
   "execution_count": 5,
   "metadata": {},
   "outputs": [
    {
     "data": {
      "text/plain": [
       "1    12500\n",
       "0    12500\n",
       "Name: sentiment, dtype: int64"
      ]
     },
     "execution_count": 5,
     "metadata": {},
     "output_type": "execute_result"
    }
   ],
   "source": [
    "imdb['sentiment'].value_counts()"
   ]
  },
  {
   "cell_type": "code",
   "execution_count": 6,
   "metadata": {},
   "outputs": [],
   "source": [
    "import seaborn as sns\n",
    "import matplotlib.pyplot as plt\n",
    "%matplotlib inline"
   ]
  },
  {
   "cell_type": "code",
   "execution_count": 7,
   "metadata": {},
   "outputs": [],
   "source": [
    "# g = sns.FacetGrid(imdb, col=\"sentiment\", height=3, aspect=1)\n",
    "# g = g.map(plt.hist, \"text_length\", bins=10)"
   ]
  },
  {
   "cell_type": "code",
   "execution_count": 8,
   "metadata": {},
   "outputs": [],
   "source": [
    "from nltk.corpus import stopwords\n",
    "import string"
   ]
  },
  {
   "cell_type": "code",
   "execution_count": 9,
   "metadata": {
    "scrolled": true
   },
   "outputs": [],
   "source": [
    "from bs4 import BeautifulSoup"
   ]
  },
  {
   "cell_type": "code",
   "execution_count": 10,
   "metadata": {},
   "outputs": [],
   "source": [
    "imdb['review'] = imdb['review'].map(lambda x: BeautifulSoup(x).get_text())"
   ]
  },
  {
   "cell_type": "code",
   "execution_count": 11,
   "metadata": {},
   "outputs": [],
   "source": [
    "def text_process(mess):\n",
    "    \"\"\"\n",
    "    Takes in a string of text, then performs the following:\n",
    "    1. Remove all punctuation\n",
    "    2. Remove all stopwords\n",
    "    3. Returns a list of the cleaned text\n",
    "    \"\"\"\n",
    "    # Check characters to see if they are in punctuation\n",
    "    nopunc = [char for char in mess if char not in string.punctuation]\n",
    "\n",
    "    # Join the characters again to form the string.\n",
    "    nopunc = ''.join(nopunc)\n",
    "    \n",
    "    # Now just remove any stopwords\n",
    "    return [word for word in nopunc.split() if word.lower() not in stopwords.words('english')]"
   ]
  },
  {
   "cell_type": "code",
   "execution_count": 12,
   "metadata": {},
   "outputs": [
    {
     "data": {
      "text/plain": [
       "0    [stuff, going, moment, MJ, ive, started, liste...\n",
       "1    [Classic, War, Worlds, Timothy, Hines, enterta...\n",
       "2    [film, starts, manager, Nicholas, Bell, giving...\n",
       "3    [must, assumed, praised, film, greatest, filme...\n",
       "4    [Superbly, trashy, wondrously, unpretentious, ...\n",
       "Name: review, dtype: object"
      ]
     },
     "execution_count": 12,
     "metadata": {},
     "output_type": "execute_result"
    }
   ],
   "source": [
    "# Check to make sure its working\n",
    "imdb['review'].head(5).apply(text_process)"
   ]
  },
  {
   "cell_type": "markdown",
   "metadata": {},
   "source": [
    "## Count Vectorizer"
   ]
  },
  {
   "cell_type": "code",
   "execution_count": 13,
   "metadata": {},
   "outputs": [],
   "source": [
    "from sklearn.feature_extraction.text import CountVectorizer"
   ]
  },
  {
   "cell_type": "code",
   "execution_count": 14,
   "metadata": {},
   "outputs": [],
   "source": [
    "X = imdb['review']\n",
    "y = imdb['sentiment']"
   ]
  },
  {
   "cell_type": "code",
   "execution_count": 15,
   "metadata": {},
   "outputs": [],
   "source": [
    "X = CountVectorizer().fit_transform(X)"
   ]
  },
  {
   "cell_type": "code",
   "execution_count": 16,
   "metadata": {},
   "outputs": [],
   "source": [
    "# len(X)"
   ]
  },
  {
   "cell_type": "markdown",
   "metadata": {},
   "source": [
    "## Train Test Split"
   ]
  },
  {
   "cell_type": "code",
   "execution_count": 17,
   "metadata": {},
   "outputs": [],
   "source": [
    "from sklearn.model_selection import train_test_split"
   ]
  },
  {
   "cell_type": "code",
   "execution_count": 18,
   "metadata": {},
   "outputs": [],
   "source": [
    "X_train, X_test, y_train, y_test = train_test_split(X, y, test_size=0.3, random_state=101)"
   ]
  },
  {
   "cell_type": "code",
   "execution_count": 19,
   "metadata": {},
   "outputs": [],
   "source": [
    "from sklearn.naive_bayes import MultinomialNB #Naive Bayes cocok buat text categorization"
   ]
  },
  {
   "cell_type": "code",
   "execution_count": 20,
   "metadata": {},
   "outputs": [],
   "source": [
    "nb = MultinomialNB().fit(X_train, y_train)"
   ]
  },
  {
   "cell_type": "code",
   "execution_count": 21,
   "metadata": {},
   "outputs": [],
   "source": [
    "predictions = nb.predict(X_test)"
   ]
  },
  {
   "cell_type": "code",
   "execution_count": 22,
   "metadata": {},
   "outputs": [],
   "source": [
    "from sklearn.metrics import classification_report,confusion_matrix,roc_curve,auc"
   ]
  },
  {
   "cell_type": "code",
   "execution_count": 23,
   "metadata": {},
   "outputs": [
    {
     "name": "stdout",
     "output_type": "stream",
     "text": [
      "[[3323  473]\n",
      " [ 651 3053]]\n",
      "              precision    recall  f1-score   support\n",
      "\n",
      "           0       0.84      0.88      0.86      3796\n",
      "           1       0.87      0.82      0.84      3704\n",
      "\n",
      "   micro avg       0.85      0.85      0.85      7500\n",
      "   macro avg       0.85      0.85      0.85      7500\n",
      "weighted avg       0.85      0.85      0.85      7500\n",
      "\n"
     ]
    }
   ],
   "source": [
    "print(confusion_matrix(y_test,predictions))\n",
    "print(classification_report(y_test,predictions))"
   ]
  },
  {
   "cell_type": "code",
   "execution_count": 24,
   "metadata": {},
   "outputs": [],
   "source": [
    "from sklearn.feature_extraction.text import TfidfTransformer\n",
    "from sklearn.pipeline import Pipeline"
   ]
  },
  {
   "cell_type": "code",
   "execution_count": 25,
   "metadata": {},
   "outputs": [],
   "source": [
    "pipeline = Pipeline([\n",
    "    ('bow', CountVectorizer()),  \n",
    "    ('tfidf', TfidfTransformer()), \n",
    "    ('classifier', MultinomialNB()),\n",
    "])"
   ]
  },
  {
   "cell_type": "code",
   "execution_count": 26,
   "metadata": {},
   "outputs": [],
   "source": [
    "X = imdb['review']\n",
    "y = imdb['sentiment']\n",
    "\n",
    "X_train, X_test, y_train, y_test = train_test_split(X, y, test_size=0.3, random_state=101)"
   ]
  },
  {
   "cell_type": "code",
   "execution_count": 27,
   "metadata": {},
   "outputs": [
    {
     "data": {
      "text/plain": [
       "Pipeline(memory=None,\n",
       "     steps=[('bow', CountVectorizer(analyzer='word', binary=False, decode_error='strict',\n",
       "        dtype=<class 'numpy.int64'>, encoding='utf-8', input='content',\n",
       "        lowercase=True, max_df=1.0, max_features=None, min_df=1,\n",
       "        ngram_range=(1, 1), preprocessor=None, stop_words=None,\n",
       "        strip_...f=False, use_idf=True)), ('classifier', MultinomialNB(alpha=1.0, class_prior=None, fit_prior=True))])"
      ]
     },
     "execution_count": 27,
     "metadata": {},
     "output_type": "execute_result"
    }
   ],
   "source": [
    "pipeline.fit(X_train,y_train)"
   ]
  },
  {
   "cell_type": "code",
   "execution_count": 28,
   "metadata": {},
   "outputs": [],
   "source": [
    "predictions = pipeline.predict(X_test)"
   ]
  },
  {
   "cell_type": "code",
   "execution_count": 29,
   "metadata": {},
   "outputs": [
    {
     "name": "stdout",
     "output_type": "stream",
     "text": [
      "[[3327  469]\n",
      " [ 542 3162]]\n",
      "              precision    recall  f1-score   support\n",
      "\n",
      "           0       0.86      0.88      0.87      3796\n",
      "           1       0.87      0.85      0.86      3704\n",
      "\n",
      "   micro avg       0.87      0.87      0.87      7500\n",
      "   macro avg       0.87      0.87      0.87      7500\n",
      "weighted avg       0.87      0.87      0.87      7500\n",
      "\n"
     ]
    }
   ],
   "source": [
    "print(confusion_matrix(y_test,predictions))\n",
    "print(classification_report(y_test,predictions))"
   ]
  },
  {
   "cell_type": "code",
   "execution_count": 30,
   "metadata": {},
   "outputs": [
    {
     "data": {
      "text/plain": [
       "array([[0.31419915, 0.68580085],\n",
       "       [0.53380055, 0.46619945],\n",
       "       [0.34751111, 0.65248889],\n",
       "       [0.50396118, 0.49603882],\n",
       "       [0.26505151, 0.73494849],\n",
       "       [0.89859481, 0.10140519],\n",
       "       [0.42497598, 0.57502402],\n",
       "       [0.39664901, 0.60335099],\n",
       "       [0.38299625, 0.61700375],\n",
       "       [0.79513599, 0.20486401]])"
      ]
     },
     "execution_count": 30,
     "metadata": {},
     "output_type": "execute_result"
    }
   ],
   "source": [
    "predictProba = pipeline.predict_proba(X_test)\n",
    "predictProba[:10]"
   ]
  },
  {
   "cell_type": "code",
   "execution_count": 31,
   "metadata": {},
   "outputs": [],
   "source": [
    "predictions = [0 if prob > 0.56 else 1 for prob in predictProba[:,0] ]"
   ]
  },
  {
   "cell_type": "code",
   "execution_count": 32,
   "metadata": {},
   "outputs": [
    {
     "name": "stdout",
     "output_type": "stream",
     "text": [
      "[[3084  712]\n",
      " [ 348 3356]]\n",
      "              precision    recall  f1-score   support\n",
      "\n",
      "           0       0.90      0.81      0.85      3796\n",
      "           1       0.82      0.91      0.86      3704\n",
      "\n",
      "   micro avg       0.86      0.86      0.86      7500\n",
      "   macro avg       0.86      0.86      0.86      7500\n",
      "weighted avg       0.86      0.86      0.86      7500\n",
      "\n"
     ]
    }
   ],
   "source": [
    "print(confusion_matrix(y_test,predictions))\n",
    "print(classification_report(y_test,predictions))"
   ]
  },
  {
   "cell_type": "code",
   "execution_count": 33,
   "metadata": {},
   "outputs": [
    {
     "data": {
      "image/png": "[encoded data removed]",
      "text/plain": [
       "<Figure size 432x288 with 1 Axes>"
      ]
     },
     "metadata": {
      "needs_background": "light"
     },
     "output_type": "display_data"
    }
   ],
   "source": [
    "# calculate the fpr and tpr for all thresholds of the classification\n",
    "preds = predictProba[:,1]\n",
    "fpr, tpr, threshold = roc_curve(y_test, preds)\n",
    "roc_auc = auc(fpr,tpr)\n",
    "\n",
    "# method 1 : plt\n",
    "plt.title('Receiver Operating Characteristic')\n",
    "plt.plot(fpr,tpr,'b',label= 'AUC = %0.2f' % roc_auc)\n",
    "plt.legend(loc = 'lower right')\n",
    "plt.plot([0,1], [0,1], 'r--')\n",
    "plt.xlim([0,1])\n",
    "plt.ylim([0,1])\n",
    "plt.ylabel('True Positive Rate')\n",
    "plt.xlabel('False Positive Rate')\n",
    "plt.show()"
   ]
  },
  {
   "cell_type": "markdown",
   "metadata": {},
   "source": [
    "## TF IDF"
   ]
  },
  {
   "cell_type": "code",
   "execution_count": 34,
   "metadata": {},
   "outputs": [
    {
     "data": {
      "text/plain": [
       "0    [stuff, going, moment, MJ, ive, started, liste...\n",
       "1    [Classic, War, Worlds, Timothy, Hines, enterta...\n",
       "2    [film, starts, manager, Nicholas, Bell, giving...\n",
       "3    [must, assumed, praised, film, greatest, filme...\n",
       "4    [Superbly, trashy, wondrously, unpretentious, ...\n",
       "Name: review, dtype: object"
      ]
     },
     "execution_count": 34,
     "metadata": {},
     "output_type": "execute_result"
    }
   ],
   "source": [
    "imdb['review'].head(5).apply(text_process)"
   ]
  },
  {
   "cell_type": "code",
   "execution_count": 35,
   "metadata": {},
   "outputs": [],
   "source": [
    "bow_transformer = CountVectorizer(analyzer=text_process).fit(imdb['review'])"
   ]
  },
  {
   "cell_type": "code",
   "execution_count": 36,
   "metadata": {
    "scrolled": true
   },
   "outputs": [
    {
     "data": {
      "text/plain": [
       "{'stuff': 147077,\n",
       " 'going': 98315,\n",
       " 'moment': 117192,\n",
       " 'MJ': 34500,\n",
       " 'ive': 108417,\n",
       " 'started': 145693,\n",
       " 'listening': 112102,\n",
       " 'music': 119196,\n",
       " 'watching': 159698,\n",
       " 'odd': 122343,\n",
       " 'documentary': 85175,\n",
       " 'watched': 159678,\n",
       " 'Wiz': 59351,\n",
       " 'Moonwalker': 37909,\n",
       " 'Maybe': 36164,\n",
       " 'want': 159217,\n",
       " 'get': 97595,\n",
       " 'certain': 74132,\n",
       " 'insight': 106484,\n",
       " 'guy': 99852,\n",
       " 'thought': 151800,\n",
       " 'really': 133252,\n",
       " 'cool': 78839,\n",
       " 'eighties': 87566,\n",
       " 'maybe': 114864,\n",
       " 'make': 113750,\n",
       " 'mind': 116229,\n",
       " 'whether': 160904,\n",
       " 'guilty': 99692,\n",
       " 'innocent': 106358,\n",
       " 'part': 125787,\n",
       " 'biography': 69573,\n",
       " 'feature': 92676,\n",
       " 'film': 93232,\n",
       " 'remember': 134603,\n",
       " 'see': 139187,\n",
       " 'cinema': 75465,\n",
       " 'originally': 123951,\n",
       " 'released': 134408,\n",
       " 'subtle': 147570,\n",
       " 'messages': 115764,\n",
       " 'MJs': 34503,\n",
       " 'feeling': 92752,\n",
       " 'towards': 153670,\n",
       " 'press': 130214,\n",
       " 'also': 63588,\n",
       " 'obvious': 122225,\n",
       " 'message': 115747,\n",
       " 'drugs': 86460,\n",
       " 'bad': 67244,\n",
       " 'mkayVisually': 116991,\n",
       " 'impressive': 105263,\n",
       " 'course': 79474,\n",
       " 'Michael': 37071,\n",
       " 'Jackson': 28895,\n",
       " 'unless': 156576,\n",
       " 'remotely': 134673,\n",
       " 'like': 111759,\n",
       " 'anyway': 64834,\n",
       " 'hate': 101000,\n",
       " 'find': 93970,\n",
       " 'boring': 70855,\n",
       " 'may': 114861,\n",
       " 'call': 72733,\n",
       " 'egotist': 87536,\n",
       " 'consenting': 78237,\n",
       " 'making': 113816,\n",
       " 'movie': 118088,\n",
       " 'fans': 92043,\n",
       " 'would': 162586,\n",
       " 'say': 137729,\n",
       " 'made': 113467,\n",
       " 'true': 154638,\n",
       " 'nice': 120408,\n",
       " 'himThe': 102538,\n",
       " 'actual': 61847,\n",
       " 'bit': 69652,\n",
       " 'finally': 93951,\n",
       " 'starts': 145721,\n",
       " '20': 1274,\n",
       " 'minutes': 116490,\n",
       " 'excluding': 90482,\n",
       " 'Smooth': 51003,\n",
       " 'Criminal': 14519,\n",
       " 'sequence': 140112,\n",
       " 'Joe': 29565,\n",
       " 'Pesci': 42653,\n",
       " 'convincing': 78785,\n",
       " 'psychopathic': 131568,\n",
       " 'powerful': 129599,\n",
       " 'drug': 86436,\n",
       " 'lord': 112747,\n",
       " 'wants': 159239,\n",
       " 'dead': 81528,\n",
       " 'beyond': 69343,\n",
       " 'overheard': 124813,\n",
       " 'plans': 128047,\n",
       " 'Nah': 38931,\n",
       " 'Pescis': 42654,\n",
       " 'character': 74372,\n",
       " 'ranted': 132730,\n",
       " 'wanted': 159227,\n",
       " 'people': 126523,\n",
       " 'know': 109827,\n",
       " 'supplying': 148303,\n",
       " 'etc': 89664,\n",
       " 'dunno': 86772,\n",
       " 'hates': 101018,\n",
       " 'musicLots': 119212,\n",
       " 'things': 151332,\n",
       " 'turning': 154922,\n",
       " 'car': 73190,\n",
       " 'robot': 136317,\n",
       " 'whole': 161107,\n",
       " 'Speed': 51564,\n",
       " 'Demon': 16347,\n",
       " 'Also': 4400,\n",
       " 'director': 83970,\n",
       " 'must': 119312,\n",
       " 'patience': 126139,\n",
       " 'saint': 137330,\n",
       " 'came': 72791,\n",
       " 'filming': 93638,\n",
       " 'kiddy': 109425,\n",
       " 'Bad': 6820,\n",
       " 'usually': 157565,\n",
       " 'directors': 84015,\n",
       " 'working': 162246,\n",
       " 'one': 123096,\n",
       " 'kid': 109389,\n",
       " 'let': 111274,\n",
       " 'alone': 63473,\n",
       " 'bunch': 72194,\n",
       " 'performing': 126845,\n",
       " 'complex': 77588,\n",
       " 'dance': 81121,\n",
       " 'sceneBottom': 138015,\n",
       " 'line': 111902,\n",
       " 'level': 111321,\n",
       " 'another': 64367,\n",
       " 'think': 151386,\n",
       " 'stay': 145856,\n",
       " 'away': 66810,\n",
       " 'try': 154758,\n",
       " 'give': 97923,\n",
       " 'wholesome': 161135,\n",
       " 'ironically': 107507,\n",
       " 'bestest': 69100,\n",
       " 'buddy': 71938,\n",
       " 'girl': 97782,\n",
       " 'truly': 154690,\n",
       " 'talented': 149309,\n",
       " 'ever': 89920,\n",
       " 'grace': 98852,\n",
       " 'planet': 128017,\n",
       " 'Well': 58678,\n",
       " 'attention': 66304,\n",
       " 'gave': 97222,\n",
       " 'subjecthmmm': 147399,\n",
       " 'well': 160283,\n",
       " 'dont': 85533,\n",
       " 'different': 83620,\n",
       " 'behind': 68724,\n",
       " 'closed': 76208,\n",
       " 'doors': 85609,\n",
       " 'fact': 91585,\n",
       " 'either': 87583,\n",
       " 'extremely': 91292,\n",
       " 'stupid': 147187,\n",
       " 'sickest': 141697,\n",
       " 'liars': 111391,\n",
       " 'hope': 103309,\n",
       " 'latter': 110544,\n",
       " 'Classic': 13072,\n",
       " 'War': 58343,\n",
       " 'Worlds': 59541,\n",
       " 'Timothy': 54985,\n",
       " 'Hines': 26468,\n",
       " 'entertaining': 88982,\n",
       " 'obviously': 122237,\n",
       " 'goes': 98285,\n",
       " 'great': 99132,\n",
       " 'effort': 87455,\n",
       " 'lengths': 111138,\n",
       " 'faithfully': 91778,\n",
       " 'recreate': 133759,\n",
       " 'H': 24707,\n",
       " 'G': 22163,\n",
       " 'Wells': 58715,\n",
       " 'classic': 75808,\n",
       " 'book': 70630,\n",
       " 'Mr': 38258,\n",
       " 'succeeds': 147634,\n",
       " 'appreciated': 65194,\n",
       " 'standard': 145487,\n",
       " 'predictable': 129895,\n",
       " 'Hollywood': 26737,\n",
       " 'fare': 92212,\n",
       " 'comes': 77057,\n",
       " 'every': 90025,\n",
       " 'year': 163116,\n",
       " 'eg': 87501,\n",
       " 'Spielberg': 51626,\n",
       " 'version': 158046,\n",
       " 'Tom': 55153,\n",
       " 'Cruise': 14670,\n",
       " 'slightest': 142821,\n",
       " 'resemblance': 135079,\n",
       " 'Obviously': 40428,\n",
       " 'everyone': 90043,\n",
       " 'looks': 112665,\n",
       " 'envision': 89202,\n",
       " 'amateur': 63714,\n",
       " 'critics': 80298,\n",
       " 'look': 112603,\n",
       " 'criticize': 80291,\n",
       " 'everything': 90070,\n",
       " 'Others': 41051,\n",
       " 'rate': 132859,\n",
       " 'important': 105184,\n",
       " 'baseslike': 67933,\n",
       " 'entertained': 88963,\n",
       " 'never': 120265,\n",
       " 'agree': 62784,\n",
       " 'enjoyed': 88751,\n",
       " 'put': 131980,\n",
       " 'faithful': 91777,\n",
       " 'HG': 24865,\n",
       " 'novel': 121639,\n",
       " 'found': 95690,\n",
       " 'easy': 87112,\n",
       " 'overlook': 124859,\n",
       " 'perceive': 126631,\n",
       " 'shortcomings': 141230,\n",
       " 'manager': 113983,\n",
       " 'Nicholas': 39514,\n",
       " 'Bell': 7770,\n",
       " 'giving': 97938,\n",
       " 'welcome': 160261,\n",
       " 'investors': 107391,\n",
       " 'Robert': 46511,\n",
       " 'Carradine': 11647,\n",
       " 'Primal': 43872,\n",
       " 'Park': 42026,\n",
       " 'secret': 139090,\n",
       " 'project': 130941,\n",
       " 'mutating': 119352,\n",
       " 'primal': 130409,\n",
       " 'animal': 64198,\n",
       " 'using': 157545,\n",
       " 'fossilized': 95668,\n",
       " 'DNA': 15244,\n",
       " '¨Jurassik': 163976,\n",
       " 'Park¨': 42049,\n",
       " 'scientists': 138375,\n",
       " 'resurrect': 135410,\n",
       " 'natures': 119801,\n",
       " 'fearsome': 92652,\n",
       " 'predators': 129869,\n",
       " 'Sabretooth': 48148,\n",
       " 'tiger': 152262,\n",
       " 'Smilodon': 50966,\n",
       " 'Scientific': 49068,\n",
       " 'ambition': 63798,\n",
       " 'turns': 154939,\n",
       " 'deadly': 81575,\n",
       " 'however': 103836,\n",
       " 'high': 102205,\n",
       " 'voltage': 158840,\n",
       " 'fence': 92870,\n",
       " 'opened': 123533,\n",
       " 'creature': 79961,\n",
       " 'escape': 89531,\n",
       " 'begins': 68654,\n",
       " 'savagely': 137668,\n",
       " 'stalking': 145457,\n",
       " 'prey': 130337,\n",
       " 'human': 103995,\n",
       " 'visitors': 158701,\n",
       " 'tourists': 153651,\n",
       " 'scientificMeanwhile': 138364,\n",
       " 'youngsters': 163522,\n",
       " 'enter': 88947,\n",
       " 'restricted': 135347,\n",
       " 'area': 65408,\n",
       " 'security': 139153,\n",
       " 'center': 74071,\n",
       " 'attacked': 66251,\n",
       " 'pack': 125232,\n",
       " 'large': 110336,\n",
       " 'prehistorical': 130008,\n",
       " 'animals': 64208,\n",
       " 'deadlier': 81570,\n",
       " 'bigger': 69443,\n",
       " 'addition': 61942,\n",
       " 'agent': 62660,\n",
       " 'Stacy': 51841,\n",
       " 'Haiduk': 25150,\n",
       " 'mate': 114687,\n",
       " 'Brian': 9574,\n",
       " 'Wimmer': 59189,\n",
       " 'fight': 93132,\n",
       " 'hardly': 100820,\n",
       " 'carnivorous': 73416,\n",
       " 'Smilodons': 50967,\n",
       " 'Sabretooths': 48149,\n",
       " 'real': 133115,\n",
       " 'star': 145550,\n",
       " 'stars': 145618,\n",
       " 'astounding': 66089,\n",
       " 'terrifyingly': 150312,\n",
       " 'though': 151744,\n",
       " 'giant': 97703,\n",
       " 'group': 99475,\n",
       " 'run': 137009,\n",
       " 'afoul': 62385,\n",
       " 'Furthermore': 22138,\n",
       " 'third': 151464,\n",
       " 'dangerous': 81181,\n",
       " 'slow': 142925,\n",
       " 'stalks': 145460,\n",
       " 'victimsThe': 158224,\n",
       " 'delivers': 82356,\n",
       " 'goods': 98585,\n",
       " 'lots': 112844,\n",
       " 'blood': 70092,\n",
       " 'gore': 98673,\n",
       " 'beheading': 68715,\n",
       " 'hairraising': 100113,\n",
       " 'chillsfull': 75137,\n",
       " 'scares': 137891,\n",
       " 'appear': 65085,\n",
       " 'mediocre': 115250,\n",
       " 'special': 144538,\n",
       " 'effectsThe': 87411,\n",
       " 'story': 146382,\n",
       " 'provides': 131342,\n",
       " 'exciting': 90451,\n",
       " 'stirring': 146175,\n",
       " 'entertainment': 89029,\n",
       " 'results': 135379,\n",
       " 'quite': 132374,\n",
       " 'majority': 113746,\n",
       " 'computer': 77716,\n",
       " 'generator': 97396,\n",
       " 'seem': 139282,\n",
       " 'totally': 153538,\n",
       " 'lousy': 112892,\n",
       " 'Middling': 37158,\n",
       " 'performances': 126793,\n",
       " 'players': 128172,\n",
       " 'reacting': 133037,\n",
       " 'appropriately': 65242,\n",
       " 'becoming': 68383,\n",
       " 'foodActors': 95080,\n",
       " 'vigorously': 158444,\n",
       " 'physical': 127395,\n",
       " 'dodging': 85225,\n",
       " 'beasts': 68249,\n",
       " 'runningbound': 137042,\n",
       " 'leaps': 110889,\n",
       " 'dangling': 81195,\n",
       " 'walls': 159156,\n",
       " 'packs': 125247,\n",
       " 'ridiculous': 135951,\n",
       " 'final': 93925,\n",
       " 'scene': 138001,\n",
       " 'small': 143038,\n",
       " 'kids': 109452,\n",
       " 'realisticgory': 133181,\n",
       " 'violent': 158589,\n",
       " 'attack': 66238,\n",
       " 'scenes': 138110,\n",
       " 'films': 93732,\n",
       " 'following': 95021,\n",
       " '¨Sabretooth2002¨by': 163979,\n",
       " 'James': 29006,\n",
       " 'R': 44558,\n",
       " 'Hickox': 26327,\n",
       " 'Vanessa': 57150,\n",
       " 'Angel': 4846,\n",
       " 'David': 15895,\n",
       " 'Keith': 30642,\n",
       " 'John': 29606,\n",
       " 'Rhys': 46162,\n",
       " 'Davies': 15904,\n",
       " 'much': 118798,\n",
       " 'better': 69176,\n",
       " '¨10000': 163967,\n",
       " 'BC2006¨': 6310,\n",
       " 'Roland': 46690,\n",
       " 'Emmerich': 19060,\n",
       " 'Steven': 52191,\n",
       " 'Strait': 52423,\n",
       " 'Cliff': 13162,\n",
       " 'Curtis': 14847,\n",
       " 'Camilla': 11276,\n",
       " 'Belle': 7775,\n",
       " 'motion': 117888,\n",
       " 'picture': 127472,\n",
       " 'filled': 93214,\n",
       " 'bloody': 70170,\n",
       " 'moments': 117220,\n",
       " 'badly': 67378,\n",
       " 'directed': 83892,\n",
       " 'George': 23069,\n",
       " 'Miller': 37277,\n",
       " 'originality': 123942,\n",
       " 'takes': 149268,\n",
       " 'many': 114238,\n",
       " 'elements': 87761,\n",
       " 'previous': 130329,\n",
       " 'Australian': 6007,\n",
       " 'television': 149972,\n",
       " 'Tidal': 54881,\n",
       " 'wave': 159818,\n",
       " 'Journey': 29777,\n",
       " 'earth': 87038,\n",
       " 'others': 124090,\n",
       " 'occasionally': 122258,\n",
       " 'man': 113930,\n",
       " 'Snowy': 51089,\n",
       " 'river': 136224,\n",
       " 'Zeus': 60530,\n",
       " 'RoxanneRobinson': 47018,\n",
       " 'Crusoe': 14685,\n",
       " 'Rating': 45347,\n",
       " 'average': 66699,\n",
       " 'bottom': 71016,\n",
       " 'barrel': 67851,\n",
       " 'assumed': 66062,\n",
       " 'praised': 129695,\n",
       " 'greatest': 99186,\n",
       " 'filmed': 93586,\n",
       " 'opera': 123563,\n",
       " 'didnt': 83501,\n",
       " 'read': 133062,\n",
       " 'somewhere': 143935,\n",
       " 'care': 73254,\n",
       " 'Wagner': 58171,\n",
       " 'anything': 64801,\n",
       " 'except': 90374,\n",
       " 'desire': 82885,\n",
       " 'Cultured': 14774,\n",
       " 'Either': 18780,\n",
       " 'representation': 134911,\n",
       " 'Wagners': 58176,\n",
       " 'swansong': 148713,\n",
       " 'strikes': 146860,\n",
       " 'unmitigated': 156654,\n",
       " 'disaster': 84241,\n",
       " 'leaden': 110828,\n",
       " 'reading': 133080,\n",
       " 'score': 138439,\n",
       " 'matched': 114672,\n",
       " 'tricksy': 154401,\n",
       " 'lugubrious': 113231,\n",
       " 'realisation': 133149,\n",
       " 'textIts': 150412,\n",
       " 'questionable': 132243,\n",
       " 'ideas': 104576,\n",
       " 'matter': 114774,\n",
       " 'play': 128118,\n",
       " 'especially': 89585,\n",
       " 'Shakespeare': 49768,\n",
       " 'allowed': 63363,\n",
       " 'anywhere': 64894,\n",
       " 'near': 119859,\n",
       " 'theatre': 150663,\n",
       " 'studio': 147045,\n",
       " 'Syberberg': 53193,\n",
       " 'fashionably': 92318,\n",
       " 'without': 161735,\n",
       " 'smallest': 143046,\n",
       " 'justification': 109144,\n",
       " 'text': 150410,\n",
       " 'decided': 81884,\n",
       " 'Parsifal': 42075,\n",
       " 'bisexual': 69642,\n",
       " 'integration': 106757,\n",
       " 'title': 152814,\n",
       " 'stages': 145386,\n",
       " 'transmutes': 154052,\n",
       " 'kind': 109612,\n",
       " 'beatnik': 68272,\n",
       " 'babe': 67023,\n",
       " 'continues': 78565,\n",
       " 'sing': 142085,\n",
       " 'tenor': 150147,\n",
       " 'actors': 61722,\n",
       " 'singers': 142108,\n",
       " 'double': 85708,\n",
       " 'dose': 85681,\n",
       " 'Armin': 5477,\n",
       " 'Jordan': 29719,\n",
       " 'conductor': 77971,\n",
       " 'seen': 139304,\n",
       " 'face': 91495,\n",
       " 'heard': 101287,\n",
       " 'voice': 158787,\n",
       " 'Amfortas': 4635,\n",
       " 'appears': 65110,\n",
       " 'monstrously': 117474,\n",
       " 'exposure': 91093,\n",
       " 'Batonzilla': 7430,\n",
       " 'Conductor': 13760,\n",
       " 'Ate': 5808,\n",
       " 'Monsalvat': 37801,\n",
       " 'playing': 128193,\n",
       " 'Good': 23803,\n",
       " 'Friday': 21930,\n",
       " 'way': 159838,\n",
       " 'transcendant': 153962,\n",
       " 'loveliness': 112989,\n",
       " 'nature': 119779,\n",
       " 'represented': 134915,\n",
       " 'scattering': 137977,\n",
       " 'shopworn': 141190,\n",
       " 'flaccid': 94339,\n",
       " 'crocuses': 80340,\n",
       " 'stuck': 147000,\n",
       " 'illlaid': 104771,\n",
       " 'turf': 154887,\n",
       " 'expedient': 90825,\n",
       " 'baffles': 67452,\n",
       " 'sometimes': 143912,\n",
       " 'piece': 127547,\n",
       " 'imperfections': 105102,\n",
       " 'thoughts': 151843,\n",
       " 'cant': 73063,\n",
       " 'couldnt': 79280,\n",
       " 'splice': 144891,\n",
       " 'Gurnemanz': 24615,\n",
       " 'mountain': 117969,\n",
       " 'pasture': 126067,\n",
       " 'lush': 113312,\n",
       " 'provided': 131337,\n",
       " 'Julie': 29895,\n",
       " 'Andrews': 4814,\n",
       " 'Sound': 51378,\n",
       " 'MusicThe': 38511,\n",
       " 'sound': 144231,\n",
       " 'hard': 100762,\n",
       " 'endure': 88571,\n",
       " 'voices': 158810,\n",
       " 'trumpets': 154700,\n",
       " 'particular': 125859,\n",
       " 'possessing': 129263,\n",
       " 'aural': 66536,\n",
       " 'glare': 97989,\n",
       " 'adds': 61958,\n",
       " 'sort': 144163,\n",
       " 'fatigue': 92492,\n",
       " 'impatience': 105079,\n",
       " 'uninspired': 156455,\n",
       " 'conducting': 77970,\n",
       " 'paralytic': 125625,\n",
       " 'unfolding': 156285,\n",
       " 'ritual': 136200,\n",
       " 'Someone': 51230,\n",
       " 'review': 135676,\n",
       " 'mentioned': 115586,\n",
       " '1951': 867,\n",
       " 'Bayreuth': 7487,\n",
       " 'recording': 133739,\n",
       " 'Knappertsbusch': 31213,\n",
       " 'tempi': 150057,\n",
       " 'often': 122694,\n",
       " 'altogether': 63651,\n",
       " 'lacks': 110077,\n",
       " 'sense': 139906,\n",
       " 'pulse': 131730,\n",
       " 'ebb': 87155,\n",
       " 'flow': 94801,\n",
       " 'half': 100129,\n",
       " 'century': 74103,\n",
       " 'orchestral': 123782,\n",
       " 'set': 140356,\n",
       " 'modern': 117082,\n",
       " 'pressings': 130220,\n",
       " 'still': 146079,\n",
       " 'superior': 148164,\n",
       " 'Superbly': 52885,\n",
       " 'trashy': 154142,\n",
       " 'wondrously': 162007,\n",
       " 'unpretentious': 156780,\n",
       " '80s': 2574,\n",
       " 'exploitation': 91009,\n",
       " 'hooray': 103294,\n",
       " 'precredits': 129859,\n",
       " 'opening': 123542,\n",
       " 'sequences': 140128,\n",
       " 'somewhat': 143928,\n",
       " 'false': 91846,\n",
       " 'impression': 105247,\n",
       " 'dealing': 81620,\n",
       " 'serious': 140264,\n",
       " 'harrowing': 100920,\n",
       " 'drama': 86010,\n",
       " 'need': 119994,\n",
       " 'fear': 92623,\n",
       " 'barely': 67777,\n",
       " 'ten': 150090,\n",
       " 'later': 110471,\n",
       " 'necks': 119980,\n",
       " 'nonsensical': 121145,\n",
       " 'chainsaw': 74178,\n",
       " 'battles': 68074,\n",
       " 'rough': 136766,\n",
       " 'fistfights': 94251,\n",
       " 'lurid': 113301,\n",
       " 'dialogs': 83339,\n",
       " 'gratuitous': 99070,\n",
       " 'nudity': 121865,\n",
       " 'Bo': 8781,\n",
       " 'Ingrid': 28214,\n",
       " 'two': 155126,\n",
       " 'orphaned': 123994,\n",
       " 'siblings': 141675,\n",
       " 'unusually': 157127,\n",
       " 'close': 76190,\n",
       " 'even': 89847,\n",
       " 'slightly': 142825,\n",
       " 'perverted': 127137,\n",
       " 'relationship': 134338,\n",
       " 'imagine': 104897,\n",
       " 'playfully': 128184,\n",
       " 'ripping': 136154,\n",
       " 'towel': 153673,\n",
       " 'covers': 79577,\n",
       " 'sisters': 142231,\n",
       " 'naked': 119570,\n",
       " 'body': 70394,\n",
       " 'stare': 145582,\n",
       " 'unshaven': 156972,\n",
       " 'genitals': 97430,\n",
       " 'several': 140456,\n",
       " 'sister': 142213,\n",
       " 'judging': 108980,\n",
       " 'dubbed': 86550,\n",
       " 'laughter': 110674,\n",
       " 'doesnt': 85267,\n",
       " 'Sick': 50385,\n",
       " 'dude': 86598,\n",
       " 'Anyway': 5153,\n",
       " 'fled': 94536,\n",
       " 'Russia': 47188,\n",
       " 'parents': 125702,\n",
       " 'nasty': 119718,\n",
       " 'soldiers': 143721,\n",
       " 'brutally': 71878,\n",
       " 'slaughtered': 142655,\n",
       " 'mommy': 117271,\n",
       " 'daddy': 81018,\n",
       " 'friendly': 96094,\n",
       " 'smuggler': 143197,\n",
       " 'took': 153286,\n",
       " 'custody': 80835,\n",
       " 'raised': 132622,\n",
       " 'trained': 153891,\n",
       " 'expert': 90925,\n",
       " 'smugglers': 143198,\n",
       " 'plot': 128328,\n",
       " 'lifts': 111676,\n",
       " 'years': 163177,\n",
       " 'theyre': 151206,\n",
       " 'facing': 91582,\n",
       " 'ultimate': 155382,\n",
       " 'quest': 132220,\n",
       " 'mythical': 119492,\n",
       " 'incredibly': 105708,\n",
       " 'valuable': 157706,\n",
       " 'White': 58933,\n",
       " 'Fire': 21115,\n",
       " 'diamond': 83383,\n",
       " 'coincidentally': 76625,\n",
       " 'mine': 116342,\n",
       " 'life': 111482,\n",
       " 'little': 112162,\n",
       " 'narrative': 119682,\n",
       " 'structure': 146955,\n",
       " 'sure': 148375,\n",
       " 'lot': 112819,\n",
       " 'fun': 96460,\n",
       " 'watch': 159579,\n",
       " 'time': 152322,\n",
       " 'clue': 76325,\n",
       " 'whos': 161174,\n",
       " 'beating': 68266,\n",
       " 'cause': 73889,\n",
       " 'bet': 69139,\n",
       " 'understood': 156029,\n",
       " 'less': 111192,\n",
       " 'whatever': 160776,\n",
       " 'violence': 158556,\n",
       " 'magnificently': 113661,\n",
       " 'grotesque': 99434,\n",
       " 'single': 142135,\n",
       " 'twist': 155082,\n",
       " 'pleasingly': 128271,\n",
       " 'retarded': 135442,\n",
       " 'script': 138726,\n",
       " 'bonkers': 70588,\n",
       " 'repair': 134777,\n",
       " 'suddenly': 147772,\n",
       " '\\x96': 163898,\n",
       " 'wont': 162011,\n",
       " 'reveal': 135583,\n",
       " 'reason': 133346,\n",
       " 'needs': 120024,\n",
       " 'replacement': 134849,\n",
       " 'Fred': 21814,\n",
       " 'Williamson': 59147,\n",
       " 'enters': 88958,\n",
       " 'big': 69421,\n",
       " 'cigar': 75443,\n",
       " 'mouth': 118013,\n",
       " 'sleazy': 142712,\n",
       " 'black': 69751,\n",
       " 'fingers': 94037,\n",
       " 'local': 112353,\n",
       " 'prostitutes': 131240,\n",
       " 'Bos': 9192,\n",
       " 'principal': 130442,\n",
       " 'opponent': 123650,\n",
       " 'Italian': 28598,\n",
       " 'chick': 74978,\n",
       " 'breasts': 71463,\n",
       " 'hideous': 102181,\n",
       " 'accent': 61080,\n",
       " 'preposterous': 130105,\n",
       " 'catchy': 73785,\n",
       " 'theme': 150827,\n",
       " 'song': 143982,\n",
       " 'plays': 128211,\n",
       " 'least': 110912,\n",
       " 'dozen': 85951,\n",
       " 'times': 152582,\n",
       " 'throughout': 152084,\n",
       " 'theres': 151147,\n",
       " 'obligatory': 122108,\n",
       " 'werefallinginlove': 160663,\n",
       " 'montage': 117475,\n",
       " 'loads': 112315,\n",
       " 'attractions': 66378,\n",
       " 'God': 23591,\n",
       " 'brilliant': 71608,\n",
       " 'experience': 90856,\n",
       " 'original': 123900,\n",
       " 'French': 21870,\n",
       " 'translates': 154027,\n",
       " 'Life': 33166,\n",
       " 'Survive': 52997,\n",
       " 'uniquely': 156507,\n",
       " 'appropriate': 65237,\n",
       " 'makes': 113787,\n",
       " 'rest': 135281,\n",
       " 'None': 39825,\n",
       " 'got': 98769,\n",
       " 'pretty': 130291,\n",
       " 'good': 98410,\n",
       " 'action': 61533,\n",
       " 'change': 74272,\n",
       " 'location': 112373,\n",
       " 'Harry': 25595,\n",
       " 'hurt': 104247,\n",
       " 'Sure': 52951,\n",
       " 'offensive': 122525,\n",
       " 'Eastwood': 18519,\n",
       " 'form': 95486,\n",
       " 'Dirty': 17006,\n",
       " 'liked': 111801,\n",
       " 'Pat': 42162,\n",
       " 'Hingle': 26469,\n",
       " 'town': 153685,\n",
       " 'cop': 78905,\n",
       " 'DIRTY': 15196,\n",
       " 'HARRY': 24766,\n",
       " 'DEAD': 15054,\n",
       " 'POOL': 41469,\n",
       " '45': 2006,\n",
       " 'could': 79258,\n",
       " 'short': 141196,\n",
       " 'Cheesy': 12437,\n",
       " 'effects': 87395,\n",
       " 'soso': 144187,\n",
       " 'acting': 61431,\n",
       " 'looked': 112637,\n",
       " 'past': 126020,\n",
       " 'wasnt': 159513,\n",
       " 'background': 67139,\n",
       " 'centers': 74082,\n",
       " 'around': 65549,\n",
       " 'evil': 90142,\n",
       " 'Druid': 17808,\n",
       " 'witch': 161630,\n",
       " 'linked': 112016,\n",
       " 'woman': 161856,\n",
       " 'gets': 97619,\n",
       " 'migraines': 116090,\n",
       " 'drags': 85999,\n",
       " 'clearly': 75968,\n",
       " 'explains': 90973,\n",
       " 'keeps': 109290,\n",
       " 'plodding': 128319,\n",
       " 'Christopher': 12812,\n",
       " 'Walken': 58245,\n",
       " 'completely': 77563,\n",
       " 'senseless': 139955,\n",
       " 'potential': 129494,\n",
       " 'TV': 53684,\n",
       " 'avoid': 66737,\n",
       " 'video': 158250,\n",
       " 'friends': 96101,\n",
       " 'house': 103743,\n",
       " 'Im': 27938,\n",
       " 'glad': 97948,\n",
       " 'waste': 159531,\n",
       " 'money': 117293,\n",
       " 'buying': 72504,\n",
       " 'cover': 79559,\n",
       " '1975': 1017,\n",
       " 'Capricorn': 11464,\n",
       " 'One': 40722,\n",
       " 'clips': 76148,\n",
       " 'rocket': 136355,\n",
       " 'blowups': 70229,\n",
       " 'related': 134330,\n",
       " 'manned': 114140,\n",
       " 'flight': 94658,\n",
       " 'Sibrels': 50377,\n",
       " 'smoking': 143158,\n",
       " 'gun': 99734,\n",
       " 'clip': 76141,\n",
       " 'astronauts': 66104,\n",
       " 'preparing': 130098,\n",
       " 'broadcast': 71696,\n",
       " 'edits': 87298,\n",
       " 'voiceover': 158804,\n",
       " 'instead': 106611,\n",
       " 'letting': 111312,\n",
       " 'us': 157464,\n",
       " 'listen': 112092,\n",
       " 'crew': 80123,\n",
       " 'curiously': 80768,\n",
       " 'ends': 88535,\n",
       " 'showing': 141482,\n",
       " 'Zapruder': 60418,\n",
       " 'claims': 75728,\n",
       " 'radiation': 132520,\n",
       " 'shielding': 140938,\n",
       " 'photography': 127357,\n",
       " 'lead': 110810,\n",
       " 'believe': 68861,\n",
       " 'ignorant': 104710,\n",
       " 'ax': 66986,\n",
       " 'grind': 99332,\n",
       " 'NASA': 38664,\n",
       " 'American': 4580,\n",
       " 'general': 97359,\n",
       " 'science': 138352,\n",
       " 'friend': 96065,\n",
       " 'bought': 71033,\n",
       " '£1': 163930,\n",
       " 'grossly': 99427,\n",
       " 'overpriced': 124927,\n",
       " 'Despite': 16540,\n",
       " 'featuring': 92703,\n",
       " 'names': 119624,\n",
       " 'Adam': 3594,\n",
       " 'Sandler': 48471,\n",
       " 'Billy': 8322,\n",
       " 'Bob': 8800,\n",
       " 'Thornton': 54755,\n",
       " 'Burt': 10242,\n",
       " 'Young': 60188,\n",
       " 'funny': 96596,\n",
       " 'taking': 149272,\n",
       " 'chisel': 75183,\n",
       " 'hammering': 100341,\n",
       " 'straight': 146617,\n",
       " 'earhole': 86970,\n",
       " 'uses': 157539,\n",
       " 'tired': 152774,\n",
       " 'comedic': 76937,\n",
       " 'techniques': 149774,\n",
       " 'consistently': 78304,\n",
       " 'breaking': 71434,\n",
       " 'fourth': 95748,\n",
       " 'wall': 159125,\n",
       " 'talks': 149381,\n",
       " 'audience': 66419,\n",
       " 'seemingly': 139290,\n",
       " 'pointless': 128667,\n",
       " 'montages': 117478,\n",
       " 'hot': 103621,\n",
       " 'girlsAdam': 97879,\n",
       " 'waiter': 159057,\n",
       " 'cruise': 80499,\n",
       " 'ship': 140981,\n",
       " 'successful': 147662,\n",
       " 'comedian': 76930,\n",
       " 'order': 123800,\n",
       " 'become': 68372,\n",
       " 'women': 161915,\n",
       " 'ships': 141007,\n",
       " 'resident': 135126,\n",
       " 'shamelessly': 140730,\n",
       " 'named': 119610,\n",
       " 'Dickie': 16788,\n",
       " 'due': 86611,\n",
       " 'unfathomable': 156243,\n",
       " 'success': 147641,\n",
       " 'opposite': 123679,\n",
       " 'gender': 97339,\n",
       " 'presumed': 130241,\n",
       " 'lost': 112790,\n",
       " 'sea': 138888,\n",
       " 'Sandlers': 48476,\n",
       " 'Shecker': 49949,\n",
       " 'break': 71397,\n",
       " 'hes': 102102,\n",
       " 'rather': 132875,\n",
       " 'locked': 112391,\n",
       " 'bathroom': 68025,\n",
       " 'presumably': 130236,\n",
       " 'sickPerhaps': 141683,\n",
       " 'vomited': 158867,\n",
       " 'worst': 162521,\n",
       " 'full': 96398,\n",
       " 'references': 133980,\n",
       " 'Like': 33211,\n",
       " 'Mad': 34893,\n",
       " 'Max': 36137,\n",
       " 'II': 27547,\n",
       " 'wild': 161335,\n",
       " 'ladybug´s': 110117,\n",
       " 'it´s': 108410,\n",
       " 'clear': 75942,\n",
       " 'reference': 133976,\n",
       " 'tribute': 154372,\n",
       " 'Peter': 42661,\n",
       " 'Lorre': 33765,\n",
       " 'masterpiece': 114591,\n",
       " 'We´ll': 58825,\n",
       " 'talk': 149346,\n",
       " 'future': 96763,\n",
       " 'happens': 100662,\n",
       " 'army': 65533,\n",
       " 'wetbacks': 160722,\n",
       " 'towelheads': 153674,\n",
       " 'Godless': 23639,\n",
       " 'Eastern': 18510,\n",
       " 'European': 19590,\n",
       " 'commies': 77257,\n",
       " 'gather': 97199,\n",
       " 'forces': 95267,\n",
       " 'south': 144328,\n",
       " 'border': 70810,\n",
       " 'Gary': 22822,\n",
       " 'Busey': 10272,\n",
       " 'kicks': 109381,\n",
       " 'butts': 72486,\n",
       " 'Another': 5023,\n",
       " 'laughable': 110588,\n",
       " 'example': 90284,\n",
       " 'Reaganera': 45473,\n",
       " 'cultural': 80685,\n",
       " 'fallout': 91837,\n",
       " 'Bulletproof': 10102,\n",
       " 'wastes': 159569,\n",
       " 'decent': 81851,\n",
       " 'supporting': 148316,\n",
       " 'cast': 73611,\n",
       " 'headed': 101180,\n",
       " 'L': 31744,\n",
       " 'Q': 44372,\n",
       " 'Jones': 29684,\n",
       " 'Thalmus': 54528,\n",
       " 'Rasulala': 45329,\n",
       " 'Although': 4424,\n",
       " 'generally': 97376,\n",
       " 'remakes': 134560,\n",
       " 'believing': 68893,\n",
       " 'exception': 90379,\n",
       " 'actually': 61856,\n",
       " 'far': 92170,\n",
       " 'comment': 77180,\n",
       " 'remake': 134548,\n",
       " 'opinion': 123605,\n",
       " 'purely': 131871,\n",
       " 'comparisonThe': 77426,\n",
       " 'written': 162831,\n",
       " 'question': 132224,\n",
       " 'Capote': 11447,\n",
       " 'wordsThe': 162120,\n",
       " 'Anthony': 5056,\n",
       " 'Edwards': 18653,\n",
       " 'Eric': 19365,\n",
       " 'Roberts': 46516,\n",
       " ...}"
      ]
     },
     "execution_count": 36,
     "metadata": {},
     "output_type": "execute_result"
    }
   ],
   "source": [
    "bow_transformer.vocabulary_"
   ]
  },
  {
   "cell_type": "code",
   "execution_count": 37,
   "metadata": {},
   "outputs": [
    {
     "data": {
      "text/plain": [
       "164079"
      ]
     },
     "execution_count": 37,
     "metadata": {},
     "output_type": "execute_result"
    }
   ],
   "source": [
    "max(bow_transformer.vocabulary_.values())"
   ]
  },
  {
   "cell_type": "code",
   "execution_count": 38,
   "metadata": {},
   "outputs": [],
   "source": [
    "messages_bow = bow_transformer.transform(imdb['review'])"
   ]
  },
  {
   "cell_type": "code",
   "execution_count": 39,
   "metadata": {},
   "outputs": [
    {
     "name": "stdout",
     "output_type": "stream",
     "text": [
      "Shape of Sparse Matrix:  (25000, 164080)\n",
      "Amount of Non-Zero occurences:  2549965\n"
     ]
    }
   ],
   "source": [
    "print('Shape of Sparse Matrix: ', messages_bow.shape)\n",
    "print('Amount of Non-Zero occurences: ', messages_bow.nnz)"
   ]
  },
  {
   "cell_type": "code",
   "execution_count": 40,
   "metadata": {},
   "outputs": [],
   "source": [
    "from sklearn.feature_extraction.text import TfidfTransformer\n",
    "\n",
    "tfidf_transformer = TfidfTransformer().fit(messages_bow)\n",
    "review_tfidf = tfidf_transformer.transform(messages_bow)"
   ]
  },
  {
   "cell_type": "code",
   "execution_count": 41,
   "metadata": {},
   "outputs": [],
   "source": [
    "from sklearn.naive_bayes import MultinomialNB #Naive Bayes cocok buat text categorization\n",
    "review = MultinomialNB().fit(review_tfidf, imdb['sentiment'])"
   ]
  },
  {
   "cell_type": "code",
   "execution_count": 42,
   "metadata": {},
   "outputs": [
    {
     "name": "stdout",
     "output_type": "stream",
     "text": [
      "It must be assumed that those who praised this film (\\the greatest filmed opera ever,\\\" didn't I read somewhere?) either don't care for opera, don't care for Wagner, or don't care about anything except their desire to appear Cultured. Either as a representation of Wagner's swan-song, or as a movie, this strikes me as an unmitigated disaster, with a leaden reading of the score matched to a tricksy, lugubrious realisation of the text.It's questionable that people with ideas as to what an opera (or, for that matter, a play, especially one by Shakespeare) is \\\"about\\\" should be allowed anywhere near a theatre or film studio; Syberberg, very fashionably, but without the smallest justification from Wagner's text, decided that Parsifal is \\\"about\\\" bisexual integration, so that the title character, in the latter stages, transmutes into a kind of beatnik babe, though one who continues to sing high tenor -- few if any of the actors in the film are the singers, and we get a double dose of Armin Jordan, the conductor, who is seen as the face (but not heard as the voice) of Amfortas, and also appears monstrously in double exposure as a kind of Batonzilla or Conductor Who Ate Monsalvat during the playing of the Good Friday music -- in which, by the way, the transcendant loveliness of nature is represented by a scattering of shopworn and flaccid crocuses stuck in ill-laid turf, an expedient which baffles me. In the theatre we sometimes have to piece out such imperfections with our thoughts, but I can't think why Syberberg couldn't splice in, for Parsifal and Gurnemanz, mountain pasture as lush as was provided for Julie Andrews in Sound of Music...The sound is hard to endure, the high voices and the trumpets in particular possessing an aural glare that adds another sort of fatigue to our impatience with the uninspired conducting and paralytic unfolding of the ritual. Someone in another review mentioned the 1951 Bayreuth recording, and Knappertsbusch, though his tempi are often very slow, had what Jordan altogether lacks, a sense of pulse, a feeling for the ebb and flow of the music -- and, after half a century, the orchestral sound in that set, in modern pressings, is still superior to this film.\"\n",
      "2221\n"
     ]
    }
   ],
   "source": [
    "message4 = imdb['review'][3]\n",
    "print(message4)\n",
    "print(len(message4))"
   ]
  },
  {
   "cell_type": "code",
   "execution_count": 43,
   "metadata": {},
   "outputs": [
    {
     "name": "stdout",
     "output_type": "stream",
     "text": [
      "  (0, 867)\t1\n",
      "  (0, 4635)\t1\n",
      "  (0, 4814)\t1\n",
      "  (0, 5477)\t1\n",
      "  (0, 5808)\t1\n",
      "  (0, 7430)\t1\n",
      "  (0, 7487)\t1\n",
      "  (0, 13760)\t1\n",
      "  (0, 14774)\t1\n",
      "  (0, 18780)\t1\n",
      "  (0, 21930)\t1\n",
      "  (0, 23803)\t1\n",
      "  (0, 24615)\t1\n",
      "  (0, 29719)\t2\n",
      "  (0, 29895)\t1\n",
      "  (0, 31213)\t1\n",
      "  (0, 37801)\t1\n",
      "  (0, 38511)\t1\n",
      "  (0, 42075)\t2\n",
      "  (0, 49768)\t1\n",
      "  (0, 51230)\t1\n",
      "  (0, 51378)\t1\n",
      "  (0, 53193)\t2\n",
      "  (0, 58171)\t1\n",
      "  (0, 58176)\t2\n",
      "  :\t:\n",
      "  (0, 147000)\t1\n",
      "  (0, 147045)\t1\n",
      "  (0, 148164)\t1\n",
      "  (0, 148713)\t1\n",
      "  (0, 150057)\t1\n",
      "  (0, 150147)\t1\n",
      "  (0, 150410)\t1\n",
      "  (0, 150412)\t1\n",
      "  (0, 150663)\t2\n",
      "  (0, 151386)\t1\n",
      "  (0, 151744)\t2\n",
      "  (0, 151843)\t1\n",
      "  (0, 152814)\t1\n",
      "  (0, 153962)\t1\n",
      "  (0, 154052)\t1\n",
      "  (0, 154401)\t1\n",
      "  (0, 154700)\t1\n",
      "  (0, 154887)\t1\n",
      "  (0, 156285)\t1\n",
      "  (0, 156455)\t1\n",
      "  (0, 156654)\t1\n",
      "  (0, 158787)\t1\n",
      "  (0, 158810)\t1\n",
      "  (0, 159838)\t1\n",
      "  (0, 161735)\t1\n",
      "(1, 164080)\n"
     ]
    }
   ],
   "source": [
    "bow4 = bow_transformer.transform([message4])\n",
    "print(bow4)\n",
    "print(bow4.shape)"
   ]
  },
  {
   "cell_type": "code",
   "execution_count": 44,
   "metadata": {
    "scrolled": false
   },
   "outputs": [
    {
     "name": "stdout",
     "output_type": "stream",
     "text": [
      "  (0, 161735)\t0.03291703927566189\n",
      "  (0, 159838)\t0.025020608850729004\n",
      "  (0, 158810)\t0.05963848601275747\n",
      "  (0, 158787)\t0.04538451828160245\n",
      "  (0, 156654)\t0.09016428122481104\n",
      "  (0, 156455)\t0.06443903392668644\n",
      "  (0, 156285)\t0.07414004464491084\n",
      "  (0, 154887)\t0.0864512134111372\n",
      "  (0, 154700)\t0.09270190600615885\n",
      "  (0, 154401)\t0.10125741976002196\n",
      "  (0, 154052)\t0.10535156713287822\n",
      "  (0, 153962)\t0.10125741976002196\n",
      "  (0, 152814)\t0.040894684416723816\n",
      "  (0, 151843)\t0.05860194494731577\n",
      "  (0, 151744)\t0.061603622445421974\n",
      "  (0, 151386)\t0.02574727549638774\n",
      "  (0, 150663)\t0.11691049752343713\n",
      "  (0, 150412)\t0.10535156713287822\n",
      "  (0, 150410)\t0.06400929205721834\n",
      "  (0, 150147)\t0.08725943743531263\n",
      "  (0, 150057)\t0.10535156713287822\n",
      "  (0, 148713)\t0.09835257597052356\n",
      "  (0, 148164)\t0.055635718538140866\n",
      "  (0, 147045)\t0.052804578797353854\n",
      "  (0, 147000)\t0.05410545710536527\n",
      "  :\t:\n",
      "  (0, 58176)\t0.17820082583427713\n",
      "  (0, 58171)\t0.07735560248345957\n",
      "  (0, 53193)\t0.1854038120123177\n",
      "  (0, 51378)\t0.07084138008338343\n",
      "  (0, 51230)\t0.06209843802770846\n",
      "  (0, 49768)\t0.06223868208552448\n",
      "  (0, 42075)\t0.1854038120123177\n",
      "  (0, 38511)\t0.10535156713287822\n",
      "  (0, 37801)\t0.10535156713287822\n",
      "  (0, 31213)\t0.10125741976002196\n",
      "  (0, 29895)\t0.06281998847386049\n",
      "  (0, 29719)\t0.14694808002365475\n",
      "  (0, 24615)\t0.09609940407949323\n",
      "  (0, 23803)\t0.050982113696222506\n",
      "  (0, 21930)\t0.060855116838346095\n",
      "  (0, 18780)\t0.06848937468054613\n",
      "  (0, 14774)\t0.10535156713287822\n",
      "  (0, 13760)\t0.09270190600615885\n",
      "  (0, 7487)\t0.09835257597052356\n",
      "  (0, 7430)\t0.10535156713287822\n",
      "  (0, 5808)\t0.10125741976002196\n",
      "  (0, 5477)\t0.0913535848081689\n",
      "  (0, 4814)\t0.06930853255510358\n",
      "  (0, 4635)\t0.09609940407949323\n",
      "  (0, 867)\t0.07535807487592629\n"
     ]
    }
   ],
   "source": [
    "tfidf4 = tfidf_transformer.transform(bow4)\n",
    "print(tfidf4)"
   ]
  },
  {
   "cell_type": "markdown",
   "metadata": {},
   "source": [
    "## Train Test Split"
   ]
  },
  {
   "cell_type": "code",
   "execution_count": 45,
   "metadata": {},
   "outputs": [],
   "source": [
    "X_train, X_test, y_train, y_test = train_test_split(imdb['review'], imdb['sentiment'], test_size=0.3)"
   ]
  },
  {
   "cell_type": "code",
   "execution_count": 46,
   "metadata": {},
   "outputs": [],
   "source": [
    "pipeline = Pipeline([\n",
    "    ('bow', CountVectorizer(analyzer=text_process)),  # strings to token integer counts\n",
    "    ('tfidf', TfidfTransformer()),  # integer counts to weighted TF-IDF scores\n",
    "    ('classifier', MultinomialNB()),  # train on TF-IDF vectors w/ Naive Bayes classifier\n",
    "])"
   ]
  },
  {
   "cell_type": "code",
   "execution_count": 47,
   "metadata": {
    "scrolled": true
   },
   "outputs": [
    {
     "data": {
      "text/plain": [
       "Pipeline(memory=None,\n",
       "     steps=[('bow', CountVectorizer(analyzer=<function text_process at 0x1a26ab3400>,\n",
       "        binary=False, decode_error='strict', dtype=<class 'numpy.int64'>,\n",
       "        encoding='utf-8', input='content', lowercase=True, max_df=1.0,\n",
       "        max_features=None, min_df=1, ngram_range=(1, 1), preprocessor=None...f=False, use_idf=True)), ('classifier', MultinomialNB(alpha=1.0, class_prior=None, fit_prior=True))])"
      ]
     },
     "execution_count": 47,
     "metadata": {},
     "output_type": "execute_result"
    }
   ],
   "source": [
    "pipeline.fit(X_train,y_train)"
   ]
  },
  {
   "cell_type": "code",
   "execution_count": 48,
   "metadata": {},
   "outputs": [],
   "source": [
    "predictions = pipeline.predict(X_test)"
   ]
  },
  {
   "cell_type": "code",
   "execution_count": 69,
   "metadata": {
    "scrolled": true
   },
   "outputs": [
    {
     "data": {
      "text/plain": [
       "0"
      ]
     },
     "execution_count": 69,
     "metadata": {},
     "output_type": "execute_result"
    }
   ],
   "source": [
    "predictions[10]"
   ]
  },
  {
   "cell_type": "code",
   "execution_count": 70,
   "metadata": {},
   "outputs": [
    {
     "data": {
      "text/plain": [
       "'I guess I have still enough brain left to NOT find this movie funny. -Great comedians - but a very poor movie! The \\\\best\\\\\" performance still did NINA HAGEN TRIVIA: Did you realize that it the \\\\\"real world\\\\\" scenes (in Hamburg) the cars are almost ONLY new BMWs ?? I guess I have still enough brain left to NOT find this movie funny. -Great comedians - but a very poor movie! The \\\\\"best\\\\\" performance still did NINA HAGEN TRIVIA: Did you realize that it the \\\\\"real world\\\\\" scenes (in Hamburg) the cars are almost ONLY new BMWs ??\"'"
      ]
     },
     "execution_count": 70,
     "metadata": {},
     "output_type": "execute_result"
    }
   ],
   "source": [
    "X_test.iloc[10]"
   ]
  },
  {
   "cell_type": "code",
   "execution_count": 50,
   "metadata": {
    "scrolled": true
   },
   "outputs": [
    {
     "name": "stdout",
     "output_type": "stream",
     "text": [
      "              precision    recall  f1-score   support\n",
      "\n",
      "           0       0.86      0.88      0.87      3751\n",
      "           1       0.88      0.86      0.87      3749\n",
      "\n",
      "   micro avg       0.87      0.87      0.87      7500\n",
      "   macro avg       0.87      0.87      0.87      7500\n",
      "weighted avg       0.87      0.87      0.87      7500\n",
      "\n"
     ]
    }
   ],
   "source": [
    "print(classification_report(y_test,predictions))"
   ]
  },
  {
   "cell_type": "code",
   "execution_count": 51,
   "metadata": {},
   "outputs": [],
   "source": [
    "predictProba = pipeline.predict_proba(X_test)"
   ]
  },
  {
   "cell_type": "code",
   "execution_count": 52,
   "metadata": {},
   "outputs": [
    {
     "data": {
      "image/png": "[encoded data removed]",
      "text/plain": [
       "<Figure size 432x288 with 1 Axes>"
      ]
     },
     "metadata": {
      "needs_background": "light"
     },
     "output_type": "display_data"
    }
   ],
   "source": [
    "# calculate the fpr and tpr for all thresholds of the classification\n",
    "preds = predictProba[:,1]\n",
    "fpr, tpr, threshold = roc_curve(y_test, preds)\n",
    "roc_auc = auc(fpr,tpr)\n",
    "\n",
    "# method 1 : plt\n",
    "plt.title('Receiver Operating Characteristic')\n",
    "plt.plot(fpr,tpr,'b',label= 'AUC = %0.2f' % roc_auc)\n",
    "plt.legend(loc = 'lower right')\n",
    "plt.plot([0,1], [0,1], 'r--')\n",
    "plt.xlim([0,1])\n",
    "plt.ylim([0,1])\n",
    "plt.ylabel('True Positive Rate')\n",
    "plt.xlabel('False Positive Rate')\n",
    "plt.show()"
   ]
  },
  {
   "cell_type": "code",
   "execution_count": 71,
   "metadata": {},
   "outputs": [
    {
     "data": {
      "text/html": [
       "<div>\n",
       "<style scoped>\n",
       "    .dataframe tbody tr th:only-of-type {\n",
       "        vertical-align: middle;\n",
       "    }\n",
       "\n",
       "    .dataframe tbody tr th {\n",
       "        vertical-align: top;\n",
       "    }\n",
       "\n",
       "    .dataframe thead th {\n",
       "        text-align: right;\n",
       "    }\n",
       "</style>\n",
       "<table border=\"1\" class=\"dataframe\">\n",
       "  <thead>\n",
       "    <tr style=\"text-align: right;\">\n",
       "      <th></th>\n",
       "      <th>id</th>\n",
       "      <th>review</th>\n",
       "    </tr>\n",
       "  </thead>\n",
       "  <tbody>\n",
       "    <tr>\n",
       "      <th>0</th>\n",
       "      <td>12311_10</td>\n",
       "      <td>Naturally in a film who's main themes are of m...</td>\n",
       "    </tr>\n",
       "    <tr>\n",
       "      <th>1</th>\n",
       "      <td>8348_2</td>\n",
       "      <td>This movie is a disaster within a disaster fil...</td>\n",
       "    </tr>\n",
       "    <tr>\n",
       "      <th>2</th>\n",
       "      <td>5828_4</td>\n",
       "      <td>All in all, this is a movie for kids. We saw i...</td>\n",
       "    </tr>\n",
       "    <tr>\n",
       "      <th>3</th>\n",
       "      <td>7186_2</td>\n",
       "      <td>Afraid of the Dark left me with the impression...</td>\n",
       "    </tr>\n",
       "    <tr>\n",
       "      <th>4</th>\n",
       "      <td>12128_7</td>\n",
       "      <td>A very accurate depiction of small time mob li...</td>\n",
       "    </tr>\n",
       "  </tbody>\n",
       "</table>\n",
       "</div>"
      ],
      "text/plain": [
       "         id                                             review\n",
       "0  12311_10  Naturally in a film who's main themes are of m...\n",
       "1    8348_2  This movie is a disaster within a disaster fil...\n",
       "2    5828_4  All in all, this is a movie for kids. We saw i...\n",
       "3    7186_2  Afraid of the Dark left me with the impression...\n",
       "4   12128_7  A very accurate depiction of small time mob li..."
      ]
     },
     "execution_count": 71,
     "metadata": {},
     "output_type": "execute_result"
    }
   ],
   "source": [
    "test = pd.read_csv('testdata.tsv', sep='\\t',header=0) #CSV TAB SEPARATOR\n",
    "test.head()"
   ]
  },
  {
   "cell_type": "code",
   "execution_count": 110,
   "metadata": {},
   "outputs": [],
   "source": [
    "test['review'] = test['review'].map(lambda x: BeautifulSoup(x).get_text())"
   ]
  },
  {
   "cell_type": "code",
   "execution_count": 112,
   "metadata": {},
   "outputs": [],
   "source": [
    "# test['review']"
   ]
  },
  {
   "cell_type": "code",
   "execution_count": 113,
   "metadata": {},
   "outputs": [],
   "source": [
    "predictions = pipeline.predict(test['review'])"
   ]
  },
  {
   "cell_type": "code",
   "execution_count": 137,
   "metadata": {},
   "outputs": [
    {
     "data": {
      "text/plain": [
       "\"Savage Guns (video title) is a dirt cheap, bottom of the barrel spaghetti western in which the survivor of a massacre hunts the bandits who killed his brother and left him for dead, catching up with them in a town controlled by their crooked boss.Despite plenty of violence, this manages to be both dull and colorless with bad characterizations and almost no imagination or humor.Lead actor Robert Woods lives up to his name with a wooden and uncharismatic performance that fails to generate any warmth or sympathy whatsoever. In other words, the viewer never really roots for him despite the fact that he's the protagonist.The worst scene (in my opinion) is the annoying dance hall scene where a woman sings in a heavy and terribly unsexy German accent. It was the worst scene in Blazing Saddles and the worst one here!\""
      ]
     },
     "execution_count": 137,
     "metadata": {},
     "output_type": "execute_result"
    }
   ],
   "source": [
    "test['review'].iloc[1030]"
   ]
  },
  {
   "cell_type": "code",
   "execution_count": 138,
   "metadata": {},
   "outputs": [
    {
     "data": {
      "text/plain": [
       "0"
      ]
     },
     "execution_count": 138,
     "metadata": {},
     "output_type": "execute_result"
    }
   ],
   "source": [
    "predictions[1030]"
   ]
  },
  {
   "cell_type": "code",
   "execution_count": 116,
   "metadata": {},
   "outputs": [
    {
     "data": {
      "text/html": [
       "<div>\n",
       "<style scoped>\n",
       "    .dataframe tbody tr th:only-of-type {\n",
       "        vertical-align: middle;\n",
       "    }\n",
       "\n",
       "    .dataframe tbody tr th {\n",
       "        vertical-align: top;\n",
       "    }\n",
       "\n",
       "    .dataframe thead th {\n",
       "        text-align: right;\n",
       "    }\n",
       "</style>\n",
       "<table border=\"1\" class=\"dataframe\">\n",
       "  <thead>\n",
       "    <tr style=\"text-align: right;\">\n",
       "      <th></th>\n",
       "      <th>id</th>\n",
       "      <th>review</th>\n",
       "    </tr>\n",
       "  </thead>\n",
       "  <tbody>\n",
       "    <tr>\n",
       "      <th>0</th>\n",
       "      <td>12311_10</td>\n",
       "      <td>Naturally in a film who's main themes are of m...</td>\n",
       "    </tr>\n",
       "    <tr>\n",
       "      <th>1</th>\n",
       "      <td>8348_2</td>\n",
       "      <td>This movie is a disaster within a disaster fil...</td>\n",
       "    </tr>\n",
       "    <tr>\n",
       "      <th>2</th>\n",
       "      <td>5828_4</td>\n",
       "      <td>All in all, this is a movie for kids. We saw i...</td>\n",
       "    </tr>\n",
       "    <tr>\n",
       "      <th>3</th>\n",
       "      <td>7186_2</td>\n",
       "      <td>Afraid of the Dark left me with the impression...</td>\n",
       "    </tr>\n",
       "    <tr>\n",
       "      <th>4</th>\n",
       "      <td>12128_7</td>\n",
       "      <td>A very accurate depiction of small time mob li...</td>\n",
       "    </tr>\n",
       "  </tbody>\n",
       "</table>\n",
       "</div>"
      ],
      "text/plain": [
       "         id                                             review\n",
       "0  12311_10  Naturally in a film who's main themes are of m...\n",
       "1    8348_2  This movie is a disaster within a disaster fil...\n",
       "2    5828_4  All in all, this is a movie for kids. We saw i...\n",
       "3    7186_2  Afraid of the Dark left me with the impression...\n",
       "4   12128_7  A very accurate depiction of small time mob li..."
      ]
     },
     "execution_count": 116,
     "metadata": {},
     "output_type": "execute_result"
    }
   ],
   "source": [
    "test.head()"
   ]
  },
  {
   "cell_type": "code",
   "execution_count": 90,
   "metadata": {},
   "outputs": [
    {
     "data": {
      "text/plain": [
       "1"
      ]
     },
     "execution_count": 90,
     "metadata": {},
     "output_type": "execute_result"
    }
   ],
   "source": [
    "coba = pipeline.predict(pd.Series(\"good movie, very nice act and very well scripted. Recommended movie for you who wants to watch a really good movie\"))\n",
    "coba[0]"
   ]
  },
  {
   "cell_type": "code",
   "execution_count": 127,
   "metadata": {},
   "outputs": [
    {
     "data": {
      "text/plain": [
       "1"
      ]
     },
     "execution_count": 127,
     "metadata": {},
     "output_type": "execute_result"
    }
   ],
   "source": [
    "coba = pipeline.predict(pd.Series(\"great movie\"))\n",
    "coba[0]"
   ]
  },
  {
   "cell_type": "code",
   "execution_count": null,
   "metadata": {},
   "outputs": [],
   "source": []
  }
 ],
 "metadata": {
  "kernelspec": {
   "display_name": "Python 3",
   "language": "python",
   "name": "python3"
  },
  "language_info": {
   "codemirror_mode": {
    "name": "ipython",
    "version": 3
   },
   "file_extension": ".py",
   "mimetype": "text/x-python",
   "name": "python",
   "nbconvert_exporter": "python",
   "pygments_lexer": "ipython3",
   "version": "3.7.1"
  }
 },
 "nbformat": 4,
 "nbformat_minor": 2
}
